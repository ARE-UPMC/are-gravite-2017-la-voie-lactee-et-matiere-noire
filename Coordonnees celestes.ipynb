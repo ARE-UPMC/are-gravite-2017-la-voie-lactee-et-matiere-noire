{
 "cells": [
  {
   "cell_type": "markdown",
   "metadata": {},
   "source": [
    "# Coordonnées célestes"
   ]
  },
  {
   "cell_type": "markdown",
   "metadata": {},
   "source": [
    "La surface terrestre est quadrillée par un ensemble de cercles, certains concentriques, les parallèles, qui découpent la planète à partir de l’équateur et jusqu’aux pôles de manière horizontale, et les méridiens, cercles perpendiculaires à l’équateur qui passent par les deux pôles, le méridien de référence étant le méridien de Greenwich. \n",
    "A partir de là il est possible pour chaque position sur la surface du globe de déterminer une latitude et une longitude qui coïncident au point d’intersection entre un parallèle et un méridien. Cela représente en quelque sorte les coordonnées de la position observée dans ce système de quadrillage terrestre.\n",
    "\n",
    "Néanmoins il n’est pas possible d’utiliser ce système de coordonnées pour noter les positions des astres que l’on peut observer dans le ciel car celui-ci est propre à la Terre. Il a donc fallu créer un système de coordonnées analogue propre à notre galaxie. Ce système de quadrillage adapté à la Voie Lactée doit alors prendre en compte la rotation de la galaxie ainsi que la rotation des astres qui la compose. \n",
    "De la même façon que pour la Terre une telle grille de coordonnées projetée sur la sphère céleste permet de déterminer une position dans le ciel.\n",
    "\n",
    "Alors, le plan galactique, où se trouvent la plupart des objets de notre galaxie, correspond à l’équateur et l’origine des longitudes galactiques correspond au centre galactique, c'est-à-dire au centre de rotation du disque de la Voie Lactée.\n",
    "\n",
    "Le plan de référence de ce système est donc le plan de la galaxie et est centré sur le centre galactique.\n",
    "Il est néanmoins possible de choisir différents plans de référence pour utiliser ce système de coordonnées.\n",
    "\n",
    "A partir de là, il est donc possible de déterminer les positions de différentes étoiles, systèmes, constellations et corps présents dans la Voie Lactée en les reportant à leurs latitudes et longitudes galactiques.\n",
    "\n",
    "Pour parler de l’actualité, on peut dire que récemment, le satellite Gaia, un télescope spatial de l’Agence Spatiale Européenne, entreprend le plus grand recensement stellaire de l’histoire humaine, en consignant la luminosité, la composition, l’âge estimé ainsi que la position exacte de chaque étoile pour dresser une carte en trois dimensions de la Voie Lactée qui permettra notamment aux astronomes de retracer l’origine et l’évolution de notre galaxie, tout en fournissant des indices quant à son destin à long terme.\n"
   ]
  },
  {
   "cell_type": "markdown",
   "metadata": {},
   "source": [
    "![alt text](http://media4.obspm.fr/public/FSU/pages_reperes/cartevl.jpg)"
   ]
  },
  {
   "cell_type": "code",
   "execution_count": null,
   "metadata": {
    "collapsed": true
   },
   "outputs": [],
   "source": []
  }
 ],
 "metadata": {
  "kernelspec": {
   "display_name": "Python 3",
   "language": "python",
   "name": "python3"
  },
  "language_info": {
   "codemirror_mode": {
    "name": "ipython",
    "version": 3
   },
   "file_extension": ".py",
   "mimetype": "text/x-python",
   "name": "python",
   "nbconvert_exporter": "python",
   "pygments_lexer": "ipython3",
   "version": "3.4.1"
  }
 },
 "nbformat": 4,
 "nbformat_minor": 0
}
