{
 "cells": [
  {
   "cell_type": "markdown",
   "metadata": {},
   "source": [
    "# Projet : La Voie Lactée et la matière noire"
   ]
  },
  {
   "cell_type": "markdown",
   "metadata": {},
   "source": [
    "## Etudiants : Neupont Guillaume, Attia Réda, Bouchenaki Habib, Salame Sandra\n",
    "\n",
    "## Semaine 1 : \n",
    "\n",
    "### Partie code en Python :\n",
    "\n",
    "- Conceptualisation et reflexion sur les objectifs que doit réaliser le code \n",
    "- Importante recherche sur les interfaces graphiques en python (tkinter)\n",
    "- Notre projet est de modéliser les différentes rotations et mouvements d'un corp céleste en fonction du référentie (Attia Réda , Bouchenaki Habib)"
   ]
  },
  {
   "cell_type": "markdown",
   "metadata": {},
   "source": [
    "### Partie physique :\n",
    "\n",
    "Cette semaine nous avons travaillé sur :\n",
    "\n",
    "- La radioastronomie : Donner une idée de la discipline et expliquer son intérêt pour étudier certains phénomènes de l'univers\n",
    "(Guillaume Neupont)\n",
    "\n",
    "- La Voie Lactée et la Matière noire : Résumé de ces notions à l'aide des informations obtenues durant les tutoriels\n",
    "(Guillaume Neupont)\n",
    "\n",
    "- Spectroscopie de l'hydrogène neutre : Travail sur l'effet Doppler, la répartition du gaz dans la Voie Lactée\n",
    "(Sandra Salame)"
   ]
  },
  {
   "cell_type": "markdown",
   "metadata": {},
   "source": [
    "### Objectifs pour la semaine 2 :\n",
    "\n",
    "- Commencer à écrire le code\n",
    "        \n",
    "- Traiter les données des spectres obtenus sur le site euhou.obspm.fr \n",
    "        \n",
    "- Travailler sur les coordonnées galactiques"
   ]
  },
  {
   "cell_type": "markdown",
   "metadata": {},
   "source": [
    "## Semaine 2 :\n",
    "### Partie code en Python :\n",
    "\n",
    "- étude de la cinématique\n",
    "\n",
    "- code de rotation d'un objet selon plusieurs trajectoires (circulaires, linéaires) (Attia Réda, Bouchenaki Habib)"
   ]
  },
  {
   "cell_type": "markdown",
   "metadata": {},
   "source": [
    "### Partie physique :\n",
    "\n",
    "- réalisation de l'exercice : \"observation indirecte de la matière noire\"\n",
    "lien : http://www.fr.euhou.net/index.php/exercices-mainmenu-13/lyce-mainmenu-174/141-observation-indirecte-de-la-matire-noire\n",
    "\n",
    "- Spectroscopie de l'hydrogène neutre : Travail sur l'effet Doppler, la répartition du gaz dans la Voie Lactée\n",
    "(Sandra Salame)\n",
    "\n",
    "- Coordonnées célestes : travail sur les coordonnées galactiques (Guillaume Neupont)\n",
    "\n",
    "- travail sur les spectres, à l'aide de la simulation permise sur le site euhou.obspm.fr (Sandra Salame, Guillaume Neupont)\n",
    "\n",
    "- acquisition de notre propre spectre"
   ]
  },
  {
   "cell_type": "markdown",
   "metadata": {},
   "source": [
    "### Objectifs pour la semaine 3 :"
   ]
  },
  {
   "cell_type": "markdown",
   "metadata": {},
   "source": [
    "- explications sur la courbe de rotation du gaz dans la Voie Lactée\n",
    "\n",
    "- adaptation du code pour représenter la cinématique du Soleil et d'un nuage de gaz dans la Voie Lactée et indiquer si le nuage de gaz se rapproche ou s'éloigne du soleil (RedShift/BlueShift)\n",
    "\n",
    "- travailler sur les spectres obtenus ou avec la simulation "
   ]
  },
  {
   "cell_type": "markdown",
   "metadata": {
    "collapsed": true
   },
   "source": [
    "## Semaine 3 :\n",
    "### Partie code en python :\n",
    "- code représentant la cinématique du système solaire et du nuage de gaz dans la Voie Lactée, en précisant si le nuage de gaz s'éloigne ou se rapproche du système solaire (Attia Réda, Bouchenaki Habib)"
   ]
  },
  {
   "cell_type": "markdown",
   "metadata": {},
   "source": [
    "### Partie physique :\n",
    "- travail sur les courbes de rotation (Guillaume Neupont)\n",
    "- tous les sujets principaux sont traités, amélioration des informations sur ces sujets (Sandra Salame, Guillaume Neupont)"
   ]
  },
  {
   "cell_type": "markdown",
   "metadata": {},
   "source": [
    "### Partie podcast : \n",
    "- Réalisation du plan complet du podcast, avec les points importants à aborder pour chaque notion (Sandra Salame, Guillaume Neupont)"
   ]
  },
  {
   "cell_type": "markdown",
   "metadata": {},
   "source": [
    "### Objectifs pour la semaine 4 :"
   ]
  },
  {
   "cell_type": "markdown",
   "metadata": {},
   "source": [
    "- Faire la majeure partie de la rédaction du rapport écrit, en reprennant les travaux réalisés sur les notions à aborder et en ajoutant une introduction et une conclusion (Partie physique), et explication du code informatique et de ce qui est réalisé en python (Partie informatique)\n",
    "- Réaliser le code représentant la cinématique de la Voie Lactée en prennant le système solaire comme référentiel (2ème référentiel)"
   ]
  },
  {
   "cell_type": "markdown",
   "metadata": {
    "collapsed": true
   },
   "source": [
    "## Semaine 4 :\n",
    "### Partie code en python :\n",
    "- réalisation du code représentant la cinématique de la Voie Lactée en prennant le système solaire comme référentiel\n",
    "- adaptation de l'interface pour permettre de choisir quel reférentiel lancer \n",
    "- travail sur l'ajout de cadrans pour les deux référentiels (Attia Réda, Bouchenaki Habib)"
   ]
  },
  {
   "cell_type": "markdown",
   "metadata": {},
   "source": [
    "### Partie physique :\n",
    "- travail sur l'explication de l'exercice réalisé en semaine 2, pour expliquer plus précisement la façon d'obtenir les courbes de rotation (Sandra Salame)\n",
    "- travail sur les alternatives à la matière noire, dont l'existence n'a toujours pas pu être mise en évidence (Guillaume Neupont)\n",
    "- travail sur le rapport écrit (Sandra Salame, Guillaume Neupont)"
   ]
  },
  {
   "cell_type": "markdown",
   "metadata": {},
   "source": [
    "### objectifs pour la semaine 5 :\n",
    "- compléter le rapport écrit et le finir avant la fin des 4 heures de cours, en y ajoutant notamment tout le code expliqué\n",
    "- finir le travail sur les cadrans (Partie informatique)"
   ]
  },
  {
   "cell_type": "code",
   "execution_count": null,
   "metadata": {
    "collapsed": true
   },
   "outputs": [],
   "source": []
  }
 ],
 "metadata": {
  "kernelspec": {
   "display_name": "Python 3",
   "language": "python",
   "name": "python3"
  },
  "language_info": {
   "codemirror_mode": {
    "name": "ipython",
    "version": 3
   },
   "file_extension": ".py",
   "mimetype": "text/x-python",
   "name": "python",
   "nbconvert_exporter": "python",
   "pygments_lexer": "ipython3",
   "version": "3.4.1"
  }
 },
 "nbformat": 4,
 "nbformat_minor": 0
}
