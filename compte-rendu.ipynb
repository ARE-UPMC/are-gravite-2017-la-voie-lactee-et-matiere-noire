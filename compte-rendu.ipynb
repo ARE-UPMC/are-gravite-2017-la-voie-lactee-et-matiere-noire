{
 "cells": [
  {
   "cell_type": "markdown",
   "metadata": {},
   "source": [
    "# Projet : La Voie Lactée et la matière noire"
   ]
  },
  {
   "cell_type": "markdown",
   "metadata": {},
   "source": [
    "## Etudiants : Neupont Guillaume, Attia Réda, Bouchenaki Habib, Salame Sandra\n",
    "\n",
    "## Semaine 1 : \n",
    "\n",
    "### Partie code en Python :\n",
    "\n",
    "- Conceptualisation et reflexion sur les objectifs que doit réaliser le code \n",
    "- Importante recherche sur les interfaces graphiques en python (tkinter)\n",
    "- Notre projet est de modéliser les différentes rotations et mouvements d'un corp céleste en fonction du référentie (Attia Réda , Bouchenaki Habib)"
   ]
  },
  {
   "cell_type": "markdown",
   "metadata": {},
   "source": [
    "### Partie physique :\n",
    "\n",
    "Cette semaine nous avons travaillé sur :\n",
    "\n",
    "- La radioastronomie : Donner une idée de la discipline et expliquer son intérêt pour étudier certains phénomènes de l'univers\n",
    "(Guillaume Neupont)\n",
    "\n",
    "- La Voie Lactée et la Matière noire : Résumé de ces notions à l'aide des informations obtenues durant les tutoriels\n",
    "(Guillaume Neupont)\n",
    "\n",
    "- Spectroscopie de l'hydrogène neutre : Travail sur l'effet Doppler, la répartition du gaz dans la Voie Lactée\n",
    "(Sandra Salame)"
   ]
  },
  {
   "cell_type": "markdown",
   "metadata": {},
   "source": [
    "### Objectifs pour la semaine 2 :\n",
    "\n",
    "- Commencer à écrire le code\n",
    "        \n",
    "- Traiter les données des spectres obtenus sur le site euhou.obspm.fr \n",
    "        \n",
    "- Travailler sur les coordonnées galactiques"
   ]
  },
  {
   "cell_type": "markdown",
   "metadata": {},
   "source": [
    "## Semaine 2 :\n",
    "### Partie code en Python :\n",
    "\n",
    "- étude de la cinématique\n",
    "\n",
    "- code de rotation d'un objet selon plusieurs trajectoires (circulaires, linéaires) (Attia Réda, Bouchenaki Habib)"
   ]
  },
  {
   "cell_type": "markdown",
   "metadata": {},
   "source": [
    "### Partie physique :\n",
    "\n",
    "- réalisation de l'exercice : \"observation indirecte de la matière noire\"\n",
    "lien : http://www.fr.euhou.net/index.php/exercices-mainmenu-13/lyce-mainmenu-174/141-observation-indirecte-de-la-matire-noire\n",
    "\n",
    "- Spectroscopie de l'hydrogène neutre : Travail sur l'effet Doppler, la répartition du gaz dans la Voie Lactée\n",
    "(Sandra Salame)\n",
    "\n",
    "- Coordonnées célestes : travail sur les coordonnées galactiques (Guillaume Neupont)\n",
    "\n",
    "- travail sur les spectres, à l'aide de la simulation permise sur le site euhou.obspm.fr (Sandra Salame, Guillaume Neupont)\n",
    "\n",
    "- acquisition de notre propre spectre"
   ]
  },
  {
   "cell_type": "markdown",
   "metadata": {},
   "source": [
    "### Objectifs pour la semaine 3 :"
   ]
  },
  {
   "cell_type": "markdown",
   "metadata": {},
   "source": [
    "- explications sur la courbe de rotation du gaz dans la Voie Lactée\n",
    "\n",
    "- adptation du code pour représenter la cinématique du Soleil et d'un nuage de gaz dans la Voie Lactée et indiquer si le nuage de gaz se rapproche ou s'éloigne du soleil (RedShift/BlueShift)\n",
    "\n",
    "- travailler sur les spectres obtenus ou avec la simulation "
   ]
  },
  {
   "cell_type": "code",
   "execution_count": null,
   "metadata": {
    "collapsed": true
   },
   "outputs": [],
   "source": []
  }
 ],
 "metadata": {
  "kernelspec": {
   "display_name": "Python 3",
   "language": "python",
   "name": "python3"
  },
  "language_info": {
   "codemirror_mode": {
    "name": "ipython",
    "version": 3
   },
   "file_extension": ".py",
   "mimetype": "text/x-python",
   "name": "python",
   "nbconvert_exporter": "python",
   "pygments_lexer": "ipython3",
   "version": "3.4.1"
  }
 },
 "nbformat": 4,
 "nbformat_minor": 0
}
