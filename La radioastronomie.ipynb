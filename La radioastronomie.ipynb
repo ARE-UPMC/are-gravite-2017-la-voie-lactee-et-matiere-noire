{
 "cells": [
  {
   "cell_type": "markdown",
   "metadata": {},
   "source": [
    "** La radioastronomie : **"
   ]
  },
  {
   "cell_type": "markdown",
   "metadata": {},
   "source": [
    "La radioastronomie permet d’observer le ciel dans le domaine des ondes radios pour nous donner une grande quantité d’informations sur l’univers que nous n’aurions pu obtenir en observant seulement la lumière visible.\n",
    "\n",
    "Il est donc nécessaire de créer des instruments capables de détecter les rayonnements non visibles émis par des corps célestes (les ondes radios en faisant partie) pour analyser ces informations. C’est la raison pour laquelle la première observation radio astronomique a été faite par Karl Jansky (physicien et ingénieur radio américain) en 1933 (assez tard dans l’histoire). \n",
    "\n",
    "Les radiotélescopes ont donc été développés à partir de la fin de la seconde guerre mondiale. Néanmoins dans l’optique d’analyser ces données de la façon la plus précise possible, il est nécessaire de recourir à de très grandes antennes pour sonder l’espace (la taille du télescope est proportionnelle à la longueur d’onde), plus l’antenne est grande et plus l’information exploitable est de bonne qualité. On peut citer par exemple le radiotélescope d’Effelsberg, en Allemagne, pour donner un exemple de grand radio télescope. \n"
   ]
  },
  {
   "cell_type": "markdown",
   "metadata": {},
   "source": [
    "![alt text](https://upload.wikimedia.org/wikipedia/commons/thumb/f/f6/DSCN6149_Effelsberg_totale.jpg/260px-DSCN6149_Effelsberg_totale.jpg)\n",
    "\n",
    "** Radiotélescope d’Effelsberg, en Allemagne **\n",
    "\n",
    "lien : https://upload.wikimedia.org/wikipedia/commons/thumb/f/f6/DSCN6149_Effelsberg_totale.jpg/260px-DSCN6149_Effelsberg_totale.jpg"
   ]
  },
  {
   "cell_type": "markdown",
   "metadata": {},
   "source": [
    "Cependant même avec des télescopes de plusieurs centaines de mètres de diamètre, la résolution angulaire est de faible qualité ce qui entraine une difficulté pour comprendre certains phénomènes. Puisqu’il n’est pas possible d’augmenter indéfiniment la taille des radiotélescopes, les radioastronomes ont construit des réseaux des radiotélescopes séparés les uns des autres (plus l’éloignement est important est plus la qualité est bonne), on appelle cela des interféromètres. Les ondes obtenues arrivent  alors avec un léger décalage et si l’on combine les signaux de la bonne façon, les informations sont plus détaillées et la résolution angulaire de l’image est grandement améliorée. "
   ]
  },
  {
   "cell_type": "markdown",
   "metadata": {},
   "source": [
    "![alt text](https://media4.obspm.fr/public/FSU/pages_infra-rouge/vlanrao.jpg)\n",
    "\n",
    "** VLA, Nouveau-Mexique avec 27 antennes mobiles **\n",
    "\n",
    "lien : https://media4.obspm.fr/public/FSU/pages_infra-rouge/vlanrao.jpg"
   ]
  },
  {
   "cell_type": "markdown",
   "metadata": {},
   "source": [
    "La radio astronomie a notamment permit de découvrir et d’observer différents objets célestes tels que les pulsars, radiogalaxies ou quasar. Néanmoins, cette discipline permet aussi l’étude de différents types de nuages d’hydrogène, en effet, la raie à 21cm est très utile aux astronomes pour cartographier les nuages d’hydrogène neutre dans les galaxies, cette raie dans le domaine radio traverse les nuages de poussière (qui bloquent en partie la lumière visible), et permet donc par effet Doppler de mesurer la vitesse du gaz émetteur et d’améliorer nos connaissances sur les galaxies et leurs cinématiques.  "
   ]
  },
  {
   "cell_type": "code",
   "execution_count": null,
   "metadata": {
    "collapsed": true
   },
   "outputs": [],
   "source": []
  }
 ],
 "metadata": {
  "kernelspec": {
   "display_name": "Python 3",
   "language": "python",
   "name": "python3"
  },
  "language_info": {
   "codemirror_mode": {
    "name": "ipython",
    "version": 3
   },
   "file_extension": ".py",
   "mimetype": "text/x-python",
   "name": "python",
   "nbconvert_exporter": "python",
   "pygments_lexer": "ipython3",
   "version": "3.4.1"
  }
 },
 "nbformat": 4,
 "nbformat_minor": 0
}
