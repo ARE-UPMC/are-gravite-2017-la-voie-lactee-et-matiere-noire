{
 "cells": [
  {
   "cell_type": "markdown",
   "metadata": {},
   "source": [
    "** Matiere noire et Voie Lactee (resume) **"
   ]
  },
  {
   "cell_type": "markdown",
   "metadata": {},
   "source": [
    "** La Voie Lactée **"
   ]
  },
  {
   "cell_type": "markdown",
   "metadata": {},
   "source": [
    "la Voie Lactée est une galaxie ayant une forme de disque de 100 000 années lumière de diamètre, elle abrite le système solaire et donc plus particulièrement la Terre et sa cinématique de rotation à vitesse constante fait que tous les corps de la Voie Lactée ont la même vitesse à partir du bord du bulbe. Néanmoins, comme ils sont plus ou moins éloignés, les corps qui sont proches du centre finissent leur tour plus vite que ceux éloignés, ce qui provoque un décalage et permet de dire que notre galaxie a des « bras spiraux ». \n",
    "La Voie Lactée contient entre 100 et 400 milliards d’étoiles (très éloignées à notre échelle mais finalement assez proche et minuscules en comparant avec la taille de la galaxie) et s’est formée il y a environ 13,2 milliards d’années. Elle comporte en son centre un trou noir super massif mettant en mouvement, par attraction gravitationnelle, tous les corps appartenant à la galaxie. \n"
   ]
  },
  {
   "cell_type": "markdown",
   "metadata": {},
   "source": [
    "** La matière noire **"
   ]
  },
  {
   "cell_type": "markdown",
   "metadata": {},
   "source": [
    "Néanmoins, le fait que tous les corps aillent à une même vitesse alors que leur distance par rapport au centre de la galaxie est différente permet de mettre en exergue l’action de la matière noire, seul argument plausible avancé pour expliquer ce phénomène. En effet, sans la matière noire, les corps de la Voie Lactée devraient suivre les mêmes règles que les corps du système solaire, c’est à dire que les plus éloignés subissent moins d’attraction gravitationnelle et ont donc une vitesse orbitale moins importante que les corps plus proches du centre. \n",
    "Comme le comportement de l’univers ne cadre pas du tout avec le comportement gravitationnel que l’on obtiendrait avec la matière visible dans l’univers, la théorie de la matière noire est étudiée, matière que l’on ne peut observer mais qui explique la très grande quantité de masse présente dans les régions éloignées du centre de la galaxie.\n",
    "\n",
    "Ainsi, la matière noire représente environ 24% de la masse de l’univers et ne doit pas être confondue avec l’énergie sombre. Les deux agissant d’ailleurs de manière opposée, la matière noire tentant de rassembler l’univers sur lui-même, alors que l’énergie sombre accélère au contraire son expansion.\n",
    "\n",
    "La matière visible ne représente quand à elle seulement 4,6% de la masse de l’univers.\n"
   ]
  },
  {
   "cell_type": "markdown",
   "metadata": {},
   "source": [
    "![alt text](http://coherence.pagesperso-orange.fr/pix/contenu_331.gif)"
   ]
  },
  {
   "cell_type": "markdown",
   "metadata": {},
   "source": [
    "Pour résumer, on peut dire que la matière noire, bien qu’invisible, joue un rôle important dans l’univers, car sans elle, la matière ordinaire ne suffirait pas à maintenir par gravité la cohésion des galaxies.\n",
    "\n",
    "Enfin, des techniques telles que la méthode des vitesses radiale servent à détecter des nuages de gaz, ou d’autres systèmes avec des étoiles dans la Voie Lactée et permettant par exemple de distinguer un nuage de gaz d’un autre (qui émettent tout deux des photons à même longueur d’onde) en utilisant le fait que si un nuage de gaz s’éloigne de la Terre, son spectre est décalé vers le rouge, alors que s’il se rapproche, son spectre est décalé vers le bleu, l’effet Doppler-Fizeau permettant de rendre compte de la variation de vitesse radiale du nuage de gaz observé.\n"
   ]
  },
  {
   "cell_type": "code",
   "execution_count": null,
   "metadata": {
    "collapsed": true
   },
   "outputs": [],
   "source": []
  }
 ],
 "metadata": {
  "kernelspec": {
   "display_name": "Python 3",
   "language": "python",
   "name": "python3"
  },
  "language_info": {
   "codemirror_mode": {
    "name": "ipython",
    "version": 3
   },
   "file_extension": ".py",
   "mimetype": "text/x-python",
   "name": "python",
   "nbconvert_exporter": "python",
   "pygments_lexer": "ipython3",
   "version": "3.4.1"
  }
 },
 "nbformat": 4,
 "nbformat_minor": 0
}
