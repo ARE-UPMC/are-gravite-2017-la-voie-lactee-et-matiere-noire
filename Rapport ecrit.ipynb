{
 "cells": [
  {
   "cell_type": "markdown",
   "metadata": {},
   "source": [
    "# Rapport écrit\n",
    "\n",
    "## Sujet : La Voie Lactée et la matière noire\n",
    "\n",
    "## Etudiants : Neupont Guillaume, Attia Réda, Bouchenaki Habib, Salame Sandra"
   ]
  },
  {
   "cell_type": "markdown",
   "metadata": {},
   "source": [
    "## Introduction :"
   ]
  },
  {
   "cell_type": "markdown",
   "metadata": {},
   "source": [
    "La Voie Lactée est une galaxie ayant une forme de disque de 100 000 années lumière de diamètre, elle abrite le système solaire et donc plus particulièrement la Terre. Sa cinématique de rotation à vitesse constante fait que tous les corps de la Voie Lactée ont la même vitesse à partir du bord du bulbe central. Néanmoins, comme ils sont plus ou moins éloignés, les corps qui sont proches du centre finissent leur tour plus vite que ceux éloignés, ce qui provoque un décalage et permet de dire que notre galaxie a des « bras spiraux ». \n",
    "\n",
    "La Voie Lactée contient entre 100 et 400 milliards d’étoiles (très éloignées à notre échelle mais finalement assez proche et minuscules en comparant avec la taille de la galaxie) et s’est formée il y a environ 13,2 milliards d’années. Elle comporte en son centre un trou noir super massif dont la masse est égale à 4 millions de fois celle du Soleil. \n",
    "\n",
    "Il va s'agir ici de comprendre comment, à partir des premières observations réalisées grâce à la radioastronomie, les astronomes ont petit à petit découvert le fonctionnement et la cinématique de la Voie Lactée et en sont venus à émettre l'hypothèse de la matière noire, élement nécessaire pour rendre compte correctement des relations entre les différents corps présents dans notre galaxie. "
   ]
  },
  {
   "cell_type": "markdown",
   "metadata": {},
   "source": [
    "## La radioastronomie :"
   ]
  },
  {
   "cell_type": "markdown",
   "metadata": {},
   "source": [
    "La radioastronomie permet d’observer le ciel dans le domaine des ondes radios pour nous donner une grande quantité d’informations sur l’univers que nous n’aurions pu obtenir en observant seulement la lumière visible.\n",
    "\n",
    "Il a alors été nécessaire de créer des instruments capables de détecter les rayonnements non visibles émis par des corps célestes (les ondes radios en faisant partie) pour analyser ces informations. C’est la raison pour laquelle cela s'est fait assez tard dans l'histoire : la première observation radio astronomique a été faite par Karl Jansky (physicien et ingénieur radio américain) en 1933. \n",
    "\n",
    "Les radiotélescopes ont donc été développés à partir de la fin de la seconde guerre mondiale. Néanmoins dans l’optique d’analyser ces données de la façon la plus précise possible, il est nécessaire de recourir à de très grandes antennes pour sonder l’espace (la taille du télescope est proportionnelle à la longueur d’onde), plus l’antenne est grande et plus l’information exploitable est de bonne qualité. On peut citer par exemple le radiotélescope d’Effelsberg, en Allemagne, pour donner un exemple de grand radio télescope. "
   ]
  },
  {
   "cell_type": "markdown",
   "metadata": {},
   "source": [
    "![alt text](https://upload.wikimedia.org/wikipedia/commons/thumb/f/f6/DSCN6149_Effelsberg_totale.jpg/260px-DSCN6149_Effelsberg_totale.jpg)\n",
    "\n",
    "** Radiotélescope d’Effelsberg, en Allemagne **\n",
    "\n",
    "lien : https://upload.wikimedia.org/wikipedia/commons/thumb/f/f6/DSCN6149_Effelsberg_totale.jpg/260px-DSCN6149_Effelsberg_totale.jpg"
   ]
  },
  {
   "cell_type": "markdown",
   "metadata": {},
   "source": [
    "Cependant même avec des télescopes de plusieurs centaines de mètres de diamètre, la résolution angulaire est de faible qualité ce qui entraine une difficulté pour comprendre certains phénomènes. Puisqu’il n’est pas possible d’augmenter indéfiniment la taille des radiotélescopes, les radioastronomes ont construit des réseaux de radiotélescopes plus petits mais dont l'éloignement permet d'augmenter la résolution angulaire, on appelle cela des interféromètres. Les ondes obtenues arrivent  alors avec un léger décalage et si l’on combine les signaux, les informations sont plus détaillées et la résolution angulaire de l’image est grandement améliorée."
   ]
  },
  {
   "cell_type": "markdown",
   "metadata": {},
   "source": [
    "![alt text](https://media4.obspm.fr/public/FSU/pages_infra-rouge/vlanrao.jpg)\n",
    "\n",
    "** VLA, Nouveau-Mexique avec 27 antennes mobiles **\n",
    "\n",
    "lien : https://media4.obspm.fr/public/FSU/pages_infra-rouge/vlanrao.jpg"
   ]
  },
  {
   "cell_type": "markdown",
   "metadata": {},
   "source": [
    "La radio astronomie a notamment permis de découvrir et d’observer différents objets célestes tels que les pulsars, radiogalaxies ou quasars. Cette discipline permet aussi l’étude de différents types de nuages d’hydrogène, en effet, la raie à 21cm est très utile aux astronomes pour cartographier les nuages d’hydrogène neutre dans les galaxies, cette raie dans le domaine radio traverse les nuages de poussière (qui bloquent en partie la lumière visible et les autres longueurs d'onde), et permet donc par effet Doppler de mesurer la vitesse du gaz émetteur et d’améliorer nos connaissances sur les galaxies et leurs cinématiques."
   ]
  },
  {
   "cell_type": "markdown",
   "metadata": {},
   "source": [
    "## Les coordonnées galactiques :"
   ]
  },
  {
   "cell_type": "markdown",
   "metadata": {},
   "source": [
    "La surface terrestre est quadrillée par un ensemble de cercles, certains concentriques, les parallèles, qui découpent la planète à partir de l’équateur et jusqu’aux pôles de manière horizontale, et les méridiens, cercles perpendiculaires à l’équateur qui passent par les deux pôles, le méridien de référence étant le méridien de Greenwich. \n",
    "A partir de là il est possible pour chaque position sur la surface du globe de déterminer une latitude et une longitude qui coïncident au point d’intersection entre un parallèle et un méridien. Cela représente les coordonnées de la position observée dans ce système de quadrillage terrestre.\n",
    "\n",
    "Néanmoins il n’est pas possible d’utiliser ce système de coordonnées pour noter les positions des astres que l’on peut observer dans le ciel car ce référentiel est propre à la Terre. Il a donc fallu créer un système de coordonnées analogue propre à notre galaxie. Ce système de quadrillage adapté à la Voie Lactée doit prendre en compte la rotation de la galaxie ainsi que la rotation des astres qui la composent. \n",
    "De la même façon que pour la Terre une telle grille de coordonnées projetée sur la sphère céleste permet de déterminer une position dans le ciel.\n",
    "\n",
    "Alors, le plan galactique, où se trouvent la plupart des objets de notre galaxie, correspond à l’équateur et l’origine des longitudes galactiques correspond au centre galactique, c'est-à-dire au centre de rotation du disque de la Voie Lactée.\n",
    "\n",
    "Le plan de référence de ce système est donc le plan de la galaxie et est centré sur le centre galactique.\n",
    "Il est néanmoins possible de choisir différents plans de référence pour utiliser ce système de coordonnées.\n",
    "\n",
    "A partir de là, il est possible d'indiquer les positions de différentes étoiles, systèmes, constellations et corps présents dans la Voie Lactée en les reportant à leurs latitudes et longitudes galactiques.\n",
    "\n",
    "Pour parler de l’actualité, on peut dire que récemment le satellite Gaia, un télescope spatial de l’Agence Spatiale Européenne, entreprend le plus grand recensement stellaire de l’histoire humaine, en consignant la luminosité, la composition, l’âge estimé ainsi que la position exacte de chaque étoile pour dresser une carte en trois dimensions de la Voie Lactée qui permettra notamment aux astronomes de retracer l’origine et l’évolution de notre galaxie, tout en fournissant des indices quant à son destin à long terme.\n"
   ]
  },
  {
   "cell_type": "markdown",
   "metadata": {},
   "source": [
    "![alt text](http://media4.obspm.fr/public/FSU/pages_reperes/cartevl.jpg)\n",
    "\n",
    "lien : http://media4.obspm.fr/public/FSU/pages_reperes/cartevl.jpg"
   ]
  },
  {
   "cell_type": "markdown",
   "metadata": {},
   "source": [
    "## Spectroscopie de l'hydrogène neutre :"
   ]
  },
  {
   "cell_type": "markdown",
   "metadata": {},
   "source": [
    "### Principe de la spectroscopie :\n",
    "\n",
    "La spectroscopie est la décomposition de la lumière en ses différentes longueurs d’onde. Certaines sources émettent une lumière composée d’un petit nombre de couleurs très précises, bien distinctes les unes des autres. D’autres produisent toutes les couleurs sans discontinuïté. D’autres encore une lumière continue, mais marquée de raies sombres. Tous ces comportements donnent des informations sur l’objet qui a émis la lumière, et permettent d’en comprendre la physique.\n"
   ]
  },
  {
   "cell_type": "markdown",
   "metadata": {},
   "source": [
    "![alt text](https://astronomia.fr/1ere_partie/lumiere_img/absorpt.gif)\n",
    "lien : https://astronomia.fr/1ere_partie/lumiere_img/absorpt.gif"
   ]
  },
  {
   "cell_type": "markdown",
   "metadata": {},
   "source": [
    "### Répartition du gaz dans la Voie lactée :\n",
    "\n",
    "L'hydrogène est le constituant principal de l'univers et donc du milieu interstellaire des galaxies. Il représente 90% du nombre total des atomes que l'on y rencontre. L'hydrogène neutre, H, est distribué en multiples nuages dont les masses sont comprises entre 0,1 et 1 000 masses solaires. Leur densité est très faible de l'ordre de 50 particules par cm3. La température y régnant est de l'ordre de 80 K.\n",
    "\n",
    "** L'hydrogène neutre est  observé en radio à la longueur d’onde de 21 cm . **\n",
    "\n",
    "Raie à 21 centimètre :   En astronomie, l'expression raie à 21 cm désigne la raie spectrale en émission de longueur d'onde égale à 21 cm, et donc détectée dans le domaine des ondes radio. Le rayonnement électromagnétique à cette longueur d'onde est produit par de grands nuages d’hydrogène atomique (neutres).Cet atome d'hydrogène est constitué d'un proton et d'un électron. L'électron se comporte comme s'il était animé d'un mouvement de rotation sur lui même. Avec une très faible probabilité d'une fois tous les 11 millions d'années, le sens de rotation de l'électron s'inverse : ceci entraîne l'émission d'une onde électromagnétique de longueur d'onde 21 cm (de fréquence 1420 MegaHertz), dans le domaine radio.\n",
    "\n",
    "La raie 21 cm a été observée pour la première fois en 1951 en utilisant des radiotélescopes. Cette raie est observable partout dans notre galaxie, son intensité est plus grande dans une zone étroite correspondant à la Voie Lactée, c'est à dire dans le disque où sont concentrées la grande majorité des étoiles de notre Galaxie. La raie 21 cm est émise au sein de nuages de gaz principalement constitués d'hydrogène neutre et appelés régions ou nuages HI.\n",
    "\n",
    "En plus elle nous permet d'observer toute notre Galaxie, y compris les régions situées au delà du centre. La distribution spatiale des nuages HI, déterminée à partir des variations d'intensité de la raie 21 cm a permis de montrer que notre Galaxie possédait une structure spirale.\n",
    "\n",
    "Des astronomes viennent de produire une carte complète du ciel dans une longueur d'onde particulière : 21 cm, la longueur d'onde d'émission de l'hydrogène atomique neutre:\n"
   ]
  },
  {
   "cell_type": "markdown",
   "metadata": {},
   "source": [
    "![alt text](https://media4.obspm.fr/H2O/pages_eau-cosmos/illustrations/hI_milkyway.gif) \n",
    "lien : https://media4.obspm.fr/H2O/pages_eau-cosmos/illustrations/hI_milkyway.gif"
   ]
  },
  {
   "cell_type": "markdown",
   "metadata": {},
   "source": [
    "### L’effet Doppler:\n",
    "\n",
    "L'effet Doppler, ou effet Doppler-Fizeau, désigne le décalage de fréquence d'une onde (mécanique, acoustique, électromagnétique ou d'une autre nature) observé entre les mesures à l'émission et à la réception, lorsque la distance entre l'émetteur et le récepteur varie au cours du temps. C'est un effet relativiste lié au mouvement relatif entre la source de rayonnement et le récepteur.\n",
    "\n",
    "La composante radiale de la vitesse relative entre l'émetteur et l'observateur étant notée v, comptée positivement pour un rapprochement de la source au récepteur, l'effet Doppler relie la longueur d'onde reçue λ à la longueur d'onde émise λ0 par: λ-λ0 = v/c ; pour une source relativiste: λ/λ0= (1+a)/sqrt(1-a^2)\n",
    "Effet Doppler=traceur des vitesses.\n",
    "\n",
    "- L’effet Doppler est particulièrement précieux en astronomie car il renseigne à la fois sur le mouvement des astres et sur les mouvements de matière à l’intérieur de ces astres.\n",
    "- L’effet Doppler permet de déterminer directement la vitesse radiale d’une étoile. En effet en étudiant le spectre d’un astre, on constate que les raies spectrales sont décalées en longueur d’onde par rapport aux mêmes raies observées en laboratoire. Le décalage d’une raie visible se produit soit vers le rouge, ce qui indique que l’étoile s’éloigne, soit vers le bleu, si elle se rapproche. \n",
    "- La mesure de la vitesse des étoiles ou des nuages de gaz interstellaire a permis de préciser les mouvements de matière à l’intérieur de la Voie lactée et d’en déterminer la structure spirale. L’effet Doppler explique pourquoi les raies observées présentent une largeur en longueur d’onde supérieure à la largeur naturelle.\n"
   ]
  },
  {
   "cell_type": "markdown",
   "metadata": {},
   "source": [
    "![alt texte](http://modeledesaions.free.fr/modeledesaions/relativ/effet_doppler_images/IMG0019_2892866.PNG) \n",
    "lien : http://modeledesaions.free.fr/modeledesaions/relativ/effet_doppler_images/IMG0019_2892866.PNG"
   ]
  },
  {
   "cell_type": "markdown",
   "metadata": {},
   "source": [
    "Grâce à cela, des techniques telles que la méthode des vitesses radiale servent à détecter des nuages de gaz, ou d’autres systèmes avec des étoiles dans la Voie Lactée et permettant par exemple de distinguer un nuage de gaz d’un autre (qui émettent tout deux des photons à même longueur d’onde) en utilisant le fait que si un nuage de gaz s’éloigne de la Terre, son spectre est décalé vers le rouge, alors que s’il se rapproche, son spectre est décalé vers le bleu, l’effet Doppler-Fizeau permettant de rendre compte de la variation de vitesse radiale du nuage de gaz observé."
   ]
  },
  {
   "cell_type": "markdown",
   "metadata": {},
   "source": [
    "## Explications sur l'obtention des courbes de rotation :"
   ]
  },
  {
   "cell_type": "markdown",
   "metadata": {},
   "source": [
    "![alt text](http://www.fr.euhou.net/docupload/images/exercise/Radio/activit2-image2.jpg)\n",
    "lien : http://www.fr.euhou.net/docupload/images/exercise/Radio/activit2-image2.jpg"
   ]
  },
  {
   "cell_type": "markdown",
   "metadata": {},
   "source": [
    "Le but est ici d’observer les effets de la matière noire sur la distribution de vitesse dans la voie Lactée. Pour cela nous allons mesurer la vitesse radiale d'un nuage de gaz pour différentes longitudes dans le premier cadran galactique, puis nous trouverons pour chacune d’elle, la vitesse au point tangentiel,on compare alors le résultat obtenu au modèle prédit par la loi de Kepler. \n",
    "\n",
    "On commence par observer le nuage de gaz à des longitudes galactiques différentes dans le 1er quadran, on trouve la relation de la différence des  vitesses radiales du nuage et du soleil, la vitesse radiale est la projection de la vitesse réelle du nuage  sur la ligne de visée qui fait un angle (α) moins la projection de la vitesse réelle du soleil sur la ligne de visée qui fait un angle(b),  donc on trouve : Vr = Vcos(α) – V0 cos(b)= Vcos(α) –V0 cos(90-l) = Vcos(α) – V0 sin(l) avec l : longitude galactique du soleil, V0 : vitesse réelle du soleil et  V : vitesse du nuage.\n",
    "\n",
    "Or CT = R0cos(90-l) = R0sin(l), d’après la projection de CT dans le triangle rectangle CST. De plus CT= Rcos(α), d’après la projection de CT  dans le triangle CMT  => CT = R0sin(l)= Rcos(α) alors on en tire cos(α) = R0sin(l)/ R. De ce fait Vr devient Vr = VR0sin(l)/ R – V0sin(l) => inversement proportionel a R ! Donc pour R le plus petit possible la différence des vitesses radiales est maximale.   \n",
    "\n",
    "Dans l’étude tangentielle, il peut y avoir de nombreux nuages le long de la ligne de visée. Si on observe un nuage au point tangentiel, on remarque que l'angle a est nul ; on en déduit que le constituant  ayant la plus grande vitesse Vr,max (avec R le plus petit possible) vient du nuage au point tangentiel T. Ces différents nuages observables à une même longitude sont explicitement visibles sur les spectres radio, en éliminant la partie où l’intensité de nuage est très faible. Ainsi au point tangentiel cos(a) = 1 ; Vr,max devient égale à : Vr,max = Vt x (1) – Vs sin(l) = Vt – Vs sin(l) avec Vt la vitesse au point tangentielle(quand Vr est maximal).\n",
    "On en tire Vt= Vr,max  + V0sin(l). En supposant que nous connaissons V0sin(l) et Vr,max connus grâce au graphe, nous pouvons décrire la courbe de rotation de la galaxie Vt(Rt). En traçant quelques points le graphe devient : \n"
   ]
  },
  {
   "cell_type": "markdown",
   "metadata": {},
   "source": [
    "![alt text](http://www.fr.euhou.net/docupload/images/exercise/Radio/activit2-image4.jpg)\n",
    "lien : http://www.fr.euhou.net/docupload/images/exercise/Radio/activit2-image4.jpg"
   ]
  },
  {
   "cell_type": "markdown",
   "metadata": {},
   "source": [
    "En résumé, à partir d'un spectre obtenu à une certaine longitude et latitude, auquel on a appliqué des barres d'erreur dues aux incertitudes et dont on convolue les pics pour obtenir des bosses là où le gaz est le plus dense (présence d'un nuage de gaz) sur la ligne de visée, on détermine la vitesse orbitale d'un nuage de gaz et sa position par rapport au centre de la galaxie en observant la bosse la plus à droite, qui correspond à l'endroit où il y  a la plus grande vitesse radiale et donc au gaz qui a la vitesse la plus élevée (au point tangent car c'est là que la distance est la plus petite possible et donc que la vitesse est la plus grande).\n",
    "\n",
    "La courbe obtenue ci-dessus est une courbe de rotation presque continue, c'est à dire une vitesse au point tangentiel presque constante quel que soit Rt, la plupart des galaxies présentent des courbes de rotation plates, car V(R) ne dépend pas de R au-delà d'un certain rayon (c'est à dire qu'à partir d'un certain point, même si la distance entre le centre de la galaxie et un corps augmente, la vitesse orbitale du corps reste constante). Contrairement à ce que l'on trouve dans le système solaire, où la vitesse des planètes varie avec la distance entre la planète et le soleil. Ce que nous verrons plus en détail dans la partie suivante. "
   ]
  },
  {
   "cell_type": "markdown",
   "metadata": {},
   "source": [
    "## Courbe de rotation du gaz dans la Voie Lactée : \n",
    "\n",
    "La radioastronomie, liée aux coordonnées célestes, ainsi que les connaissances sur la spectroscopie de l'hydrogène neutre ont permis de réaliser une courbe de rotation du gaz dans la Voie Lactée.\n",
    "\n",
    "En effet, en observant, pour des longitudes différentes (en faisant varier les longitudes on considère des nuages de gaz plus ou moins éloignés du centre de la galaxie) déterminées grâce aux coordonnées célestes dans la galaxie, les spectres de l'hydrogène neutre émis par ces régions, il est possible de déterminer pour chaque position dans la Voie Lactée la vitesse orbitale des nuages de gaz que l'on y trouve. \n",
    "\n",
    "La courbe de rotation d’un gaz dans la Voie Lactée correspond à un graphique représentant la vitesse orbitale du gaz en fonction de la distance du gaz au centre de la galaxie.\n",
    "Dans le tutoriel sur la Voie Lactée, nous avons vu que les courbes de rotation se comportaient différemment en fonction de « l’échelle » à laquelle on les regarde. \n",
    "\n",
    "En effet, dans le système solaire, la vitesse orbitale des objets qu’on y trouve décroit quand leur distance au soleil croit, alors que, tel que le montre l’image suivante, à l’échelle de la galaxie, les corps semblent aller à peu près à la même vitesse à partir d’un certain point alors que leur distance au centre de la Voie Lactée continue d’augmenter."
   ]
  },
  {
   "cell_type": "markdown",
   "metadata": {},
   "source": [
    "![alt text](https://raw.githubusercontent.com/ARE-UPMC/are-gravite-2017-la-voie-lactee-et-matiere-noire/master/Image%20courbe%20rotation.png)"
   ]
  },
  {
   "cell_type": "markdown",
   "metadata": {},
   "source": [
    "De plus, on sait que la force de gravitation décroît comme le carré de la distance. Dans le cas du système solaire, même si la masse intérieure des planètes éloignées est légèrement plus importante que celle des planètes proches, leurs orbites plus éloignées sont un paramètre bien plus important à prendre en considération. De ce fait la force gravitationnelle qui s’exerce sur les planètes éloignées est inférieure à celle qui s’exerce sur les planètes proches et donc plus on s’éloigne du soleil, moins leur vitesse orbitale est importante, ce qui explique les courbes de rotation obtenues dans le système solaire. \n",
    "\n",
    "Cependant dans le cas de la galaxie les données obtenues sont complétement différentes, et pourtant en fonction des corps massiques observables que l’on y trouve, on aurait tendance à penser que la majeure partie de la masse se trouve au centre de la galaxie et que l’on devrait donc trouver des courbes de rotation analogues pour la galaxie et pour le système solaire. \n",
    "\n",
    "De ce fait, on peut dire que puisque les étoiles vont à une même vitesse orbitale à partir d’un certain point dans la galaxie, pour compenser la distance, qui n’est pas la même pour toutes les étoiles, entre ces étoiles et le centre de la galaxie, il faudrait que leur masse intérieure soit extrêmement importante et donc que la force gravitationnelle soit très grande, bien plus importante que celle que l’on obtiendrait en additionnant la masse des corps observables présents dans ces régions. \n",
    "\n",
    "On en conclut alors qu’il y a plus de masse dans le disque et le halo de la Voie Lactée que ce que l’on peut observer.  D’où l’hypothèse émise par les astronomes et physiciens de l’existence de « matière noire », que l’on ne peut observer mais qui explique la très grande quantité de masse présente dans les régions éloignées du centre de la galaxie. La matière noire est alors distribuée sous la forme d'un gigantesque halo de matière non visible entourant la galaxie. Ce halo de matière représenterait près de 90% de la masse totale de la galaxie."
   ]
  },
  {
   "cell_type": "markdown",
   "metadata": {},
   "source": [
    "## Matière noire :"
   ]
  },
  {
   "cell_type": "markdown",
   "metadata": {},
   "source": [
    "En effet, le fait que tous les corps vont à une même vitesse orbitale alors que leur distance par rapport au centre de la galaxie est différente permet de mettre en exergue l’action de la matière noire, seul argument plausible avancé pour expliquer ce phénomène. De fait, sans la matière noire, les corps de la Voie Lactée devraient suivre les mêmes règles que les corps du système solaire, c’est à dire que les plus éloignés subiraient moins d’attraction gravitationnelle et auraient donc une vitesse orbitale moins importante que les corps plus proches du centre. \n",
    "\n",
    "Comme le comportement de l’univers ne cadre pas du tout avec le comportement gravitationnel que l’on obtiendrait avec la matière visible dans l’univers, la théorie de la matière noire est étudiée, matière que l’on ne peut observer mais qui explique la très grande quantité de masse présente dans les régions éloignées du centre de la galaxie. \n",
    "\n",
    "Ainsi, la matière noire représente environ 24% de la masse de l’univers et ne doit pas être confondue avec l’énergie sombre. Les deux agissent d’ailleurs de manière opposée, la matière noire tente de rassembler l’univers sur lui-même, alors que l’énergie sombre accélère au contraire son expansion.\n",
    "\n",
    "La matière visible ne représente quant à elle seulement 4,6% de la masse de l’univers."
   ]
  },
  {
   "cell_type": "markdown",
   "metadata": {},
   "source": [
    "![alt text](http://coherence.pagesperso-orange.fr/pix/contenu_331.gif)\n",
    "lien : http://coherence.pagesperso-orange.fr/pix/contenu_331.gif"
   ]
  },
  {
   "cell_type": "markdown",
   "metadata": {},
   "source": [
    "Pour résumer, la matière noire, bien qu’invisible, joue un rôle important dans l’univers, car sans elle, la matière ordinaire ne suffirait pas à maintenir par gravité la cohésion des galaxies.\n",
    "\n",
    "Néanmoins, l'existence de la matière noire n'a toujours pas pu être mise en évidence. D'autres théories, elles aussi en accord avec les courbes de rotation des nuages de gaz sont donc avancées telle que, par exemple, la théorie de Mond, qui est une des alternatives les plus sérieuses au concept de matière noire. Cette théorie modifie les lois de gravitation de Newton (repose notamment sur une modification de la seconde loi de Newton aux accélérations très faibles) et fonctionne à l'échelle des galaxies mais ne permet pas d'expliquer correctement, du moins pour le moment, les mesures concernant les amas de galaxies.\n",
    "Cependant, grâce au satellite Gaia dont nous avons parlé plus haut, il devrait être possible dans quelques années de soumettre des contraintes plus importantes aux théories avancées (matière noire et théorie de Mond) pour tenter de les départager ou pour en tester de nouvelles.\n",
    "\n",
    "Une incertitude demeure sur la nature de la matière noire. Il pourrait s'agir soit d'objets très massifs, soit de particules discrètes mais très nombreuses. Les WIMPs, acronyme de \"Weakly Interactive Particle\", ou \"particule interagissant faiblement\" sont l'élément avancé par les astronomes pour expliquer cette nature. Ces particules pourraient exercer une influence gravitationnelle sur la masse ordinaire que l'on trouve dans l'Univers tout en restant invisible de part leur interaction très faible avec la matière normale. Si chacune de ces particules avait autant de masse qu'un noyau atomique, cela pourrait rendre compte de toute la masse invisible de l'Univers. S'il est extremement difficile de les observer, certains physiciens cherchent tout de même à détecter un WIMP à travers l'une de ses rares interactions avec la matière, ce qui pourrait permettre, en cas de réussite, d'appuyer d'autant plus la théorie de la matière noire."
   ]
  },
  {
   "cell_type": "markdown",
   "metadata": {},
   "source": [
    "## Conclusion\n",
    "\n",
    "Pour conclure, on peut dire que la radioastronomie a permis aux astronomes d'obtenir des informations sur les nuages de gaz à l'aide de la raie à 21cm, émise au sein de nuages de gaz, qui traverse les nuages de poussière bloquant la majeure partie de la lumière visible. En combinant ces informations aux coordonnées célestes, il est possible à la fois de déterminer la position du nuage de gaz dans la galaxie mais aussi d'en déduire sa vitesse orbitale.\n",
    "\n",
    "Il est alors possible, en observant plusieurs nuages de gaz de plus en plus éloignés du centre de la galaxie de réaliser la courbe de rotation des nuages de gaz observés. On remarque, à partir de cette courbe de rotation, qu'à partir d'un certain point les nuages de gaz observés, qui sont donc à les longitudes différentes, ont à peu près la même vitesse orbitale. En comparant cette courbe de rotation avec celle, par exemple, du système solaire, il apparait que la masse additionnée des corps massiques observables de la Voie Lactée ne permet pas d'expliquer une telle courbe de rotation.\n",
    "\n",
    "La matière noire est alors l'élement avancé par les astronomes pour expliquer la courbe de rotation. En effet, puisque la masse observable dans la galaxie est bien trop faible pour expliquer la courbe de rotation obtenue à partir des observations, c'est qu'une grande quantité de masse, qui n'est pas observable, est présente dans la Voie Lactée : La matière noire. Grâce à elle, la cohésion des galaxies est maintenue par gravité et il est effectivement possible d'obtenir une vitesse orbitale constante à partir d'un certain point pour les corps présents dans la Voie Lactée.\n",
    "\n",
    "C'est la raison pour laquelle la cinématique de la Voie Lactée correspond à une cinématique à vitesse constante et que, puisque la vitesse orbitale des corps est constante, mais que leur vitesse angulaire est différente, il se produit un décalage visible entre les corps amenant à la formation de \"bras spiraux\".\n"
   ]
  },
  {
   "cell_type": "markdown",
   "metadata": {},
   "source": [
    "## Explication du code :"
   ]
  },
  {
   "cell_type": "code",
   "execution_count": null,
   "metadata": {
    "collapsed": true
   },
   "outputs": [],
   "source": []
  }
 ],
 "metadata": {
  "kernelspec": {
   "display_name": "Python 3",
   "language": "python",
   "name": "python3"
  },
  "language_info": {
   "codemirror_mode": {
    "name": "ipython",
    "version": 3
   },
   "file_extension": ".py",
   "mimetype": "text/x-python",
   "name": "python",
   "nbconvert_exporter": "python",
   "pygments_lexer": "ipython3",
   "version": "3.4.1"
  }
 },
 "nbformat": 4,
 "nbformat_minor": 0
}
