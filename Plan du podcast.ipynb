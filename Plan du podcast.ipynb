{
 "cells": [
  {
   "cell_type": "markdown",
   "metadata": {},
   "source": [
    "# Plan du podcast"
   ]
  },
  {
   "cell_type": "markdown",
   "metadata": {},
   "source": [
    "## Première partie : Introduction sur la Voie Lactée \n",
    "\n",
    "- informations sur la Voie Lactée (diamètre, nombre d'étoiles, âge, cinématique de rotation à vitesse constante, objets que l'on peut y trouver (étoiles, nuages de gaz, trou noir super massif)).\n",
    "\n",
    "images : Voie Lactée, légendes (étoiles, nuages de gaz, trou noir super massif) et nombres affichés"
   ]
  },
  {
   "cell_type": "markdown",
   "metadata": {},
   "source": [
    "## Seconde partie : Radioastronomie et coordonnées galactiques\n",
    "\n",
    "- histoire, ondes radios émisent par des corps célestes\n",
    "- radiotélescopes, problème de leur taille\n",
    "- difficulté pour comprendre certains phénomènes qui entraine la construction d'interféromètres\n",
    "- utilité de la radioastronomie pour étudier les nuages de gaz et améliorer nos connaissances sur la cinématique de la galaxie\n",
    "\n",
    "images : Karl Jansky, radio télescope et interféromètres\n",
    "\n",
    "- parallèles et méridien -> point d'intersection coordonnée d'une position sur la surface du globe\n",
    "- création d'un système de coordonnées analogue pour notre galaxie\n",
    "- plan de référence du système\n",
    "- utilité pour déterminer les positions des corps présents dans la Voie Lactée\n",
    "- Satellite Gaia\n",
    "\n",
    "images : globe terrestre avec latitudes longitudes, affiche un point à l'intersection d'un latitude et longitude, galaxie avec latitudes et longitudes (image utilisée dans le rapport écrit)\n"
   ]
  },
  {
   "cell_type": "markdown",
   "metadata": {},
   "source": [
    "## Troisième partie : Spectroscopie de l'hydrogène neutre\n",
    "\n",
    "\n",
    "\n",
    "- Principe de spectroscopie : définition et types.\n",
    "- Le constituant principal de l’univers : L’Hydrogène.\n",
    "- L'Hydrogène neutre est observé dans le domaine radio à la longueur d’onde de 21 cm.\n",
    "- L'effet Doppler (effet Doppler-Fizeau)  =  le décalage de fréquence d'une onde.\n",
    "- Le décalage d’une raie visible vers le rouge indique que le corps s’éloigne\n",
    "- Le décalage d’une raie visible vers  le bleu indique que le corps se rapproche. \n",
    "- Le rôle de l’effet Doppler en astronomie :    \n",
    "    -  renseigne sur le mouvement des astres.\n",
    "    -  détermine directement la vitesse radiale d’une étoile.\n",
    "    -  précise les mouvements de matière à l’intérieur de la Voie lactée et d’en déterminer la structure spirale.\n",
    "    \n",
    "images : spectre, formule Doppler, code en python -> référentiels (en visuel sur la vidéo) qui montrent notamment RedShift/BlueShift\n"
   ]
  },
  {
   "cell_type": "markdown",
   "metadata": {},
   "source": [
    "## Quatrième partie : Courbe de rotation du gaz obtenue à partir des spectres\n",
    "\n",
    "- comparaison courbe de rotation entre système solaire et Voie Lacté (et \"structure\" -> essentiel de la masse observable au centre)\n",
    "- en fonction des corps massiques observables, impossibilité d'expliquer la vitesse constante des corps à partir d'un certain point, devrait suivre les mêmes règles que les corps du système solaire\n",
    "- En observant la formule de l'attraction gravitationelle, on en déduit qu'il doit y avoir bien plus de masse que ce que celle additionnée des corps massiques que l'on peut observer\n",
    "- hypothèse de la \"matière noire\" avancée, que l'on ne peut observer mais qui explique la très grande quantité de masse présente dans les régions éloignées du centre de la galaxie\n",
    "\n",
    "images : courbe de rotation système solaire d'un côté de l'écran et nuage de gaz de l'autre"
   ]
  },
  {
   "cell_type": "markdown",
   "metadata": {},
   "source": [
    "## Cinquième partie : Matière noire\n",
    "\n",
    "- 24% de la masse de l'univers, on ne l'a jamais réellement observée mais on la devine à l'aide des phénomènes gravitationnels (en comparaison avec la matière visible que représente 4,6% de la masse de l'univers)\n",
    "- rapidement : ne pas confondre matière noire et matière sombre\n",
    "- matière noire -> permet de maintenir par gravité la cohésion des galaxies\n",
    "\n",
    "images : graphique que l'on trouve dans le rapport écrit"
   ]
  },
  {
   "cell_type": "markdown",
   "metadata": {},
   "source": [
    "## Conclusion\n",
    "\n",
    "La radioastronomie combinée aux coordonnées galactiques ont permis d'observer à l'aide de la spectroscopie de l'hydrogène neutre des spectres de nuages de gaz qui permettent de construire leur courbe de rotation. En comparant cette courbe de rotation, dans la Voie Lactée, à celles des corps du systèmes solaire on remarque une grande différence, qui ne peut être expliquée par des théories comme celle de la \"matière noire\""
   ]
  },
  {
   "cell_type": "code",
   "execution_count": null,
   "metadata": {
    "collapsed": true
   },
   "outputs": [],
   "source": []
  }
 ],
 "metadata": {
  "kernelspec": {
   "display_name": "Python 3",
   "language": "python",
   "name": "python3"
  },
  "language_info": {
   "codemirror_mode": {
    "name": "ipython",
    "version": 3
   },
   "file_extension": ".py",
   "mimetype": "text/x-python",
   "name": "python",
   "nbconvert_exporter": "python",
   "pygments_lexer": "ipython3",
   "version": "3.4.1"
  }
 },
 "nbformat": 4,
 "nbformat_minor": 0
}
