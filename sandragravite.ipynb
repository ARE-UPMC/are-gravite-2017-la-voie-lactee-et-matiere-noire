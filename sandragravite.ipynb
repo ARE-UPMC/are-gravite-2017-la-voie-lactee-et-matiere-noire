{
 "cells": [
  {
   "cell_type": "markdown",
   "metadata": {},
   "source": [
    "<b> Principe de la spectroscopie <br> </b>\n",
    "La spectroscopie est la décomposition de la lumière en ses différentes longueurs d’onde. Certaines sources émettent une lumière composée d’un petit nombre de couleurs très précises, bien distinctes les unes des autres. D’autres produisent toutes les couleurs sans discontinuïté. D’autres encore une lumière continue, mais marquée de raies sombres. Tous ces comportements donnent des informations sur l’objet qui a émis la lumière, et permettent d’en comprendre la physique."
   ]
  },
  {
   "cell_type": "markdown",
   "metadata": {},
   "source": [
    "![alt text](https://astronomia.fr/1ere_partie/lumiere_img/absorpt.gif)"
   ]
  },
  {
   "cell_type": "markdown",
   "metadata": {},
   "source": [
    "<b> Répartition du gaz dans la Voie lactée </b> <br>\n",
    "L'hydrogène est le constituant principal de l'univers et donc du milieu interstellaire des galaxies. Il représente 90% du nombre total des atomes que l'on y rencontre. L'hydrogène neutre, H, est distribué en multiples nuages dont les masses sont comprises entre 0,1 et 1 000 masses solaires. Leur densité est très faible de l'ordre de 50 particules par cm3. La température y régnant est de l'ordre de 80 K.<br>\n",
    " <b> L'hydrogène neutre est  observé en radio à la longueur d’onde de 21 cm </b> "
   ]
  },
  {
   "cell_type": "markdown",
   "metadata": {},
   "source": [
    "<b> Raie à 21 centimètre:</b> \n",
    "En astronomie, l'expression raie à 21 cm désigne la raie spectrale en émission de longueur d'onde égale à 21 cm, et donc détectée dans le domaine des ondes radio. Le rayonnement électromagnétique à cette longueur d'onde est produit par de grands nuages d’hydrogène atomique (neutres).Cet atome d'hydrogène est constitué d'un proton et d'un électron en \"orbite\" autour de lui. L'électron se comporte comme s'il était animé d'un mouvement de rotation sur lui même. Spontanément, mais avec une très faible probabilité d'une fois tous les 11 millions d'années, le sens de rotation de l'électron s'inverse : ceci entraîne l'émission d'une onde électromagnétique de longueur d'onde 21 cm (de fréquence 1420 MegaHertz), dans le domaine radio. <br>\n",
    "La raie 21 cm a été observée pour la première fois en 1951 en utilisant des radiotélescopes. Cette raie est observable partout dans notre Galaxie ; son intensité est plus grande dans une zone étroite correspondant à la Voie Lactée, c'est à dire dans le disque où sont concentrées la grande majorité des étoiles de notre Galaxie. La raie 21 cm est émise au sein de nuages de gaz principalement constitués d'hydrogène neutre et appelés régions ou nuages HI.\n",
    "En plus elle nous permet d'observer toute notre Galaxie, y compris les régions situées au delà du centre. La distribution spatiale des nuages HI, déterminée à partir des variations d'intensité de la raie 21 cm a permis de montrer que notre Galaxie possédait une structure spirale. <br>\n",
    "\n",
    "\n",
    "![alt text](https://media4.obspm.fr/H2O/pages_eau-cosmos/illustrations/hI_milkyway.gif)<br>\n",
    "Des astronomes viennent de produire une carte complète du ciel dans une longueur d'onde particulière : 21 cm, la longueur d'onde d'émission de l'hydrogène atomique neutre.\n"
   ]
  },
  {
   "cell_type": "markdown",
   "metadata": {},
   "source": [
    "<b>  L’effet de Doppler: </b> <br>\n",
    "L'effet Doppler, ou effet Doppler-Fizeau, désigne le décalage de fréquence d'une onde (mécanique, acoustique, électromagnétique ou d'une autre nature) observé entre les mesures à l'émission et à la réception, lorsque la distance entre l'émetteur et le récepteur varie au cours du temps.\n",
    "C'est un effet relativiste lié au mouvement relatif entre la source de rayonnementet et le récepteur. <br>\n",
    "La composante radiale de la vitesse relative entre l'émetteur et l'observateur étant notée v, comptée positivement pour un rapprochement de la source au récepteur, l'effet Doppler relie la\n",
    "longueur d'onde reçue λ à la longueur d'onde émise λ0 par: λ-λ0 = v/c ; pour une source relativiste: λ/λ0= (1+a)/sqrt(1-a**2) <br>\n",
    "\n",
    "<b> Effet Doppler=traceur des vitesses. </b>      \n"
   ]
  },
  {
   "cell_type": "markdown",
   "metadata": {},
   "source": [
    "* L’effet Doppler est particulièrement précieux en astronomie car il renseigne à la fois sur le mouvement des astres et sur les mouvements de matière à l’intérieur de ces astres.<br>\n",
    "* L’effet Doppler permet de déterminer directement la vitesse radiale d’une étoile. En effet en étudiant le spectre d’un astre, on constate que les raies spectrales sont décalées en longueur d’onde par rapport aux mêmes raies observées en laboratoire. Le décalage d’une raie visible se produit soit vers le rouge, ce qui indique que l’étoile s’éloigne, soit vers le bleu (, et donc que l'univers est en expansion), si elle se rapproche. <br>\n",
    "* La mesure de la vitesse des étoiles ou des nuages de gaz interstellaire a permis de préciser les mouvements de matière à l’intérieur de la Voie lactée et d’en déterminer la structure spirale. L’effet Doppler explique pourquoi les raies observées présentent une largeur en longueur d’onde supérieure à la largeur naturelle\n",
    "\n"
   ]
  },
  {
   "cell_type": "markdown",
   "metadata": {},
   "source": [
    "![alt text](http://fr.cdn.v5.futura-sciences.com/buildsv6/images/mediumoriginal/f/d/a/fda249ac9c_18804_42749-exoplanete-vitesses-eso.jpg)"
   ]
  },
  {
   "cell_type": "code",
   "execution_count": null,
   "metadata": {
    "collapsed": true
   },
   "outputs": [],
   "source": []
  }
 ],
 "metadata": {
  "kernelspec": {
   "display_name": "Python 3",
   "language": "python",
   "name": "python3"
  },
  "language_info": {
   "codemirror_mode": {
    "name": "ipython",
    "version": 3
   },
   "file_extension": ".py",
   "mimetype": "text/x-python",
   "name": "python",
   "nbconvert_exporter": "python",
   "pygments_lexer": "ipython3",
   "version": "3.4.1"
  }
 },
 "nbformat": 4,
 "nbformat_minor": 0
}
