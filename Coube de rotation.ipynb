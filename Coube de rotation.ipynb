{
 "cells": [
  {
   "cell_type": "markdown",
   "metadata": {},
   "source": [
    "# Courbe de rotation"
   ]
  },
  {
   "cell_type": "markdown",
   "metadata": {},
   "source": [
    "La courbe de rotation d’un gaz dans la Voie Lactée correspond à un graphique représentant la vitesse orbitale du gaz en fonction de la distance du gaz au centre de la galaxie.\n",
    "Dans le tutoriel sur la Voie Lactée, nous avons vu que les courbes de rotation se comportaient différemment en fonction de « l’échelle » à laquelle on les regarde. \n",
    "\n",
    "En effet, dans le système solaire, la vitesse orbitale des objets qu’on y trouve décroit quand leur distance au soleil croit, alors que, tel que le montre l’image suivante, à l’échelle de la galaxie, les corps semblent aller à peu près à la même vitesse à partir d’un certain point alors que leur distance au centre de la Voie Lactée continue d’augmenter.\n"
   ]
  },
  {
   "cell_type": "markdown",
   "metadata": {},
   "source": [
    "![alt text](./Image%20courbe%20rotation.png)"
   ]
  },
  {
   "cell_type": "markdown",
   "metadata": {
    "collapsed": true
   },
   "source": [
    "De plus, on sait que la force de gravitation décroît comme le carré de la distance. Dans le cas du système solaire, même si la masse intérieure des planètes éloignées est légèrement plus importante que celle des planètes proches, leurs orbites plus éloignées sont un paramètre bien plus important à prendre en considération. De ce fait la force gravitationnelle qui s’exerce sur les planètes éloignées est inférieure à celle qui s’exerce sur les planètes proches et donc plus on s’éloigne du soleil et moins leur vitesse orbitale est importante, ce qui explique les courbes de rotation obtenues dans le système solaire. \n",
    "\n",
    "Cependant dans le cas de la galaxie les données obtenues sont complétement différentes, et pourtant en fonction des corps massiques observables que l’on y trouve, on aurait tendance à penser que la majeure partie de la masse se trouve au centre de la galaxie et que l’on devrait donc trouver des courbes de rotation identiques pour la galaxie et pour le système solaire. \n",
    "\n",
    "De ce fait, on peut dire que, puisque les étoiles vont à une même vitesse orbitale à partir d’un certain point dans la galaxie, pour compenser la distance, qui n’est pas la même pour toutes les étoiles, entre ces étoiles et le centre de la galaxie, il faudrait que leur masse intérieure soit extrêmement importante et donc que la force gravitationnelle soit très grande, bien plus importante que celle que l’on obtiendrait en additionnant la masse des corps observables présents dans ces régions. \n",
    "\n",
    "On en conclut donc qu’il y a plus de masse dans le disque et le halo de la Voie Lactée que ce que l’on peut observer.  D’où l’hypothèse émise par les astronomes et physiciens de l’existence de « matière noire », que l’on ne peut observer mais qui explique la très grande quantité de masse présente dans les régions éloignées du centre de la galaxie."
   ]
  },
  {
   "cell_type": "code",
   "execution_count": null,
   "metadata": {
    "collapsed": true
   },
   "outputs": [],
   "source": []
  }
 ],
 "metadata": {
  "kernelspec": {
   "display_name": "Python 3",
   "language": "python",
   "name": "python3"
  },
  "language_info": {
   "codemirror_mode": {
    "name": "ipython",
    "version": 3
   },
   "file_extension": ".py",
   "mimetype": "text/x-python",
   "name": "python",
   "nbconvert_exporter": "python",
   "pygments_lexer": "ipython3",
   "version": "3.4.1"
  }
 },
 "nbformat": 4,
 "nbformat_minor": 0
}
