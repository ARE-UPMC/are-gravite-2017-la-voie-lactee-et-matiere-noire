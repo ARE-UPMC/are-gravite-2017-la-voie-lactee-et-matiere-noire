{
 "cells": [
  {
   "cell_type": "markdown",
   "metadata": {},
   "source": [
    "# Projet : \"La Voie Lactée et la matière noire\""
   ]
  },
  {
   "cell_type": "markdown",
   "metadata": {},
   "source": [
    "## Etudiants : Neupont Guillaume, Attia Réda, Bouchenaki Habib, Salame Sandra"
   ]
  },
  {
   "cell_type": "markdown",
   "metadata": {},
   "source": [
    "## Semaine 1 : "
   ]
  },
  {
   "cell_type": "markdown",
   "metadata": {},
   "source": [
    "### Partie code en Python :"
   ]
  },
  {
   "cell_type": "markdown",
   "metadata": {},
   "source": [
    "        - Conceptualisation et reflexion sur les objectifs que doit réaliser le code \n",
    "        \n",
    "        - Importante recherche sur les interfaces graphiques en python (tkinter)\n",
    "        \n",
    "        - Notre projet est de modéliser les différentes rotations et mouvements d'un corp céleste en fonction du référentiel\n",
    "        (Attia Réda , Bouchenaki Habib)"
   ]
  },
  {
   "cell_type": "markdown",
   "metadata": {},
   "source": [
    "### Partie physique :"
   ]
  },
  {
   "cell_type": "markdown",
   "metadata": {
    "collapsed": true
   },
   "source": [
    "Cette semaine nous avons travaillé sur :"
   ]
  },
  {
   "cell_type": "markdown",
   "metadata": {},
   "source": [
    "        - La radioastronomie : Donner une idée de la discipline et expliquer son intérêt pour étudier certains phénomènes de l'univers\n",
    "        (Guillaume Neupont)"
   ]
  },
  {
   "cell_type": "markdown",
   "metadata": {},
   "source": [
    "        - La Voie Lactée et la Matière noire : Résumé de ces notions à l'aide des informations obtenues durant les tutoriels\n",
    "        (Guillaume Neupont)"
   ]
  },
  {
   "cell_type": "markdown",
   "metadata": {},
   "source": [
    "        - Spectroscopie de l'hydrogène neutre : Travail sur l'effet Doppler, la répartition du gaz dans la Voie Lactée\n",
    "        (Sandra Salame)"
   ]
  },
  {
   "cell_type": "markdown",
   "metadata": {},
   "source": [
    "### Objectifs pour la semaine 2 :"
   ]
  },
  {
   "cell_type": "markdown",
   "metadata": {},
   "source": [
    "        - Commencer à écrire le code\n",
    "        \n",
    "        - Traiter les données des spectres obtenus sur le site euhou.obspm.fr \n",
    "        \n",
    "        - Travailler sur les coordonnées galactiques"
   ]
  },
  {
   "cell_type": "code",
   "execution_count": null,
   "metadata": {
    "collapsed": true
   },
   "outputs": [],
   "source": []
  }
 ],
 "metadata": {
  "kernelspec": {
   "display_name": "Python 3",
   "language": "python",
   "name": "python3"
  },
  "language_info": {
   "codemirror_mode": {
    "name": "ipython",
    "version": 3
   },
   "file_extension": ".py",
   "mimetype": "text/x-python",
   "name": "python",
   "nbconvert_exporter": "python",
   "pygments_lexer": "ipython3",
   "version": "3.4.1"
  }
 },
 "nbformat": 4,
 "nbformat_minor": 0
}
